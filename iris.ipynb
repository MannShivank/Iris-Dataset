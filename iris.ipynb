{
  "nbformat": 4,
  "nbformat_minor": 0,
  "metadata": {
    "colab": {
      "name": "iris.ipynb",
      "provenance": [],
      "authorship_tag": "ABX9TyOWQXiMpW9C/phrjDVbIQbr",
      "include_colab_link": true
    },
    "kernelspec": {
      "name": "python3",
      "display_name": "Python 3"
    },
    "language_info": {
      "name": "python"
    }
  },
  "cells": [
    {
      "cell_type": "markdown",
      "metadata": {
        "id": "view-in-github",
        "colab_type": "text"
      },
      "source": [
        "<a href=\"https://colab.research.google.com/github/MannShivank/Iris-Dataset/blob/main/iris.ipynb\" target=\"_parent\"><img src=\"https://colab.research.google.com/assets/colab-badge.svg\" alt=\"Open In Colab\"/></a>"
      ]
    },
    {
      "cell_type": "code",
      "metadata": {
        "id": "s5D5dYTrYXJX"
      },
      "source": [
        "import numpy as np\n",
        "class Perceptron(object):\n",
        "    def __init__(self, learning_rate=0.01, n_iter=100, random_state=1):\n",
        "        self.learning_rate = learning_rate\n",
        "        self.n_iter = n_iter\n",
        "        self.random_state = random_state\n",
        "    def fit(self, X, y):\n",
        "        rand = np.random.RandomState(self.random_state)\n",
        "        self.weights = rand.normal(loc=0.0, scale=0.01, size=1 +  X.shape[1])\n",
        "        self.errors_ = []\n",
        "        for _ in range(self.n_iter):\n",
        "            errors = 0\n",
        "            for x, target in zip(X, y):\n",
        "                update = self.learning_rate * (target - self.predict(x))\n",
        "                self.weights[1:] += update * x\n",
        "                self.weights[0] += update\n",
        "                errors += int(update != 0.0)\n",
        "                self.errors_.append(errors)\n",
        "            return self\n",
        "    def net_input(self, X):\n",
        "        z = np.dot(X, self.weights[1:]) + self.weights[0]\n",
        "        return z\n",
        "    def predict(self, X):\n",
        "        return np.where(self.net_input(X) > 0, 1, 0)"
      ],
      "execution_count": 6,
      "outputs": []
    },
    {
      "cell_type": "code",
      "metadata": {
        "id": "IyJgCs0cYaU3"
      },
      "source": [
        "import pandas as pd\n",
        "data = pd.read_csv(\"iris.data\")\n",
        "data = data[:100]"
      ],
      "execution_count": 7,
      "outputs": []
    },
    {
      "cell_type": "code",
      "metadata": {
        "id": "7y9aRXsqYc5B"
      },
      "source": [
        "from sklearn.preprocessing import LabelEncoder\n",
        "le = LabelEncoder()\n",
        "data['class'] = le.fit_transform(data['class'])\n",
        "X = data.iloc[:,:-1].values\n",
        "y = data.iloc[:,-1].values"
      ],
      "execution_count": 8,
      "outputs": []
    },
    {
      "cell_type": "code",
      "metadata": {
        "id": "lEx_m-F4Ymw5"
      },
      "source": [
        "from sklearn.model_selection import train_test_split\n",
        "X_train, X_test, y_train, y_test = train_test_split(X, y, test_size=0.2)"
      ],
      "execution_count": 9,
      "outputs": []
    },
    {
      "cell_type": "code",
      "metadata": {
        "id": "ELhqtLyaYo-U"
      },
      "source": [
        "per = Perceptron(learning_rate=0.1, n_iter=100, random_state=1)\n",
        "per.fit(X_train, y_train)\n",
        "output = per.predict(X_test)"
      ],
      "execution_count": 10,
      "outputs": []
    },
    {
      "cell_type": "code",
      "metadata": {
        "colab": {
          "base_uri": "https://localhost:8080/"
        },
        "id": "2pO9u6asYtkb",
        "outputId": "baa37485-265e-4998-ab06-da806ed15313"
      },
      "source": [
        "output"
      ],
      "execution_count": 11,
      "outputs": [
        {
          "output_type": "execute_result",
          "data": {
            "text/plain": [
              "array([0, 0, 1, 1, 0, 0, 1, 0, 1, 0, 1, 0, 0, 1, 0, 0, 1, 0, 1, 1])"
            ]
          },
          "metadata": {},
          "execution_count": 11
        }
      ]
    },
    {
      "cell_type": "code",
      "metadata": {
        "colab": {
          "base_uri": "https://localhost:8080/"
        },
        "id": "jK624ZJEYxX7",
        "outputId": "9b463122-269a-48db-b46d-6aca919aa2c5"
      },
      "source": [
        "y_test"
      ],
      "execution_count": 12,
      "outputs": [
        {
          "output_type": "execute_result",
          "data": {
            "text/plain": [
              "array([0, 0, 1, 1, 0, 0, 1, 0, 1, 0, 1, 0, 0, 1, 0, 0, 1, 0, 1, 1])"
            ]
          },
          "metadata": {},
          "execution_count": 12
        }
      ]
    }
  ]
}